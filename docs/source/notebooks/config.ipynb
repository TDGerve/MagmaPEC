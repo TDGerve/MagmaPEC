{
 "cells": [
  {
   "cell_type": "markdown",
   "metadata": {},
   "source": [
    "# Configuration"
   ]
  },
  {
   "cell_type": "markdown",
   "metadata": {},
   "source": [
    "Start by importing MagmaPEC"
   ]
  },
  {
   "cell_type": "code",
   "execution_count": 1,
   "metadata": {},
   "outputs": [],
   "source": [
    "import MagmaPEC as mpc"
   ]
  },
  {
   "cell_type": "markdown",
   "metadata": {},
   "source": [
    "MagmaPEC is based on MagmaPandas and uses the same global configuration. MagmaPEC comes preloaded with the MagmaPandas configuration class, accesssible via *configuration*:"
   ]
  },
  {
   "cell_type": "code",
   "execution_count": 2,
   "metadata": {},
   "outputs": [
    {
     "name": "stdout",
     "output_type": "stream",
     "text": [
      "\n",
      "################ MagmaPandas ################\n",
      "#############################################\n",
      "General settings_____________________________\n",
      "fO2 buffer................................QFM\n",
      "Δ buffer....................................1\n",
      "Melt Fe3+/Fe2+........................borisov\n",
      "Kd Fe-Mg ol-melt.......................toplis\n",
      "Melt thermometer...............putirka2008_15\n",
      "Volatile solubility model......IaconoMarziano\n",
      "Volatile species........................mixed\n"
     ]
    }
   ],
   "source": [
    "print(mpc.configuration)"
   ]
  },
  {
   "cell_type": "markdown",
   "metadata": {},
   "source": [
    "Please see the [MagmaPandas documentation](https://magmapandas.readthedocs.io/en/latest/notebooks/config.html) for information on how to change settings controlled by MagmaPandas."
   ]
  },
  {
   "cell_type": "markdown",
   "metadata": {},
   "source": [
    "Settings specific to the post-entrapment crystallisation (PEC) correction model are stored in the *PEC_configuration* class:"
   ]
  },
  {
   "cell_type": "code",
   "execution_count": 3,
   "metadata": {},
   "outputs": [
    {
     "name": "stdout",
     "output_type": "stream",
     "text": [
      "\n",
      "############ Post-entrapment crystallisation ############\n",
      "################### correction model ####################\n",
      "Settings_________________________________________________\n",
      "Fe2+ behaviour...................................buffered\n",
      "Stepsize equilibration (moles)...................0.002   \n",
      "Stepsize crystallisation (moles).................0.05    \n",
      "Decrease factor..................................5       \n",
      "FeO convergence (wt. %)..........................0.05    \n",
      "Kd convergence...................................0.001   \n"
     ]
    }
   ],
   "source": [
    "print(mpc.PEC_configuration)"
   ]
  },
  {
   "cell_type": "markdown",
   "metadata": {},
   "source": [
    "The following settings are available:\n",
    "\n",
    "- **Fe2_behaviour**:\n",
    "    \n",
    "    Determines how melt inclusion Fe<sup>2+</sup> and Fe<sup>3+</sup> are calculated. For *buffered*, Fe<sup>2+</sup> and Fe<sup>3+</sup> are considered buffered with the external melts and they are calculated according to the model set in the MagmaPandas configuration through the entire PEC correction model. For *closed system* they are only modelled at the start. Fe<sup>3+</sup> is assumed perfectly imcompatible in olivine and melting or crystallisation results in addition or subtraction of Fe<sup>2+</sup>\n",
    "- **stepsize_equilibration**:\n",
    "\n",
    "    The stepsize in moles of Fe-Mg cation exchange in the equilibration phase\n",
    "- **stepsize_crystallisation**\n",
    "\n",
    "    The stepsize in moles of olivine crystallisation or melting in the crystallisation phase\n",
    "- **decrease_factor**\n",
    "\n",
    "    Factor by which *stepsize_equilibration* and *stepsize_crystallisation* get decreased after overstepping of convergence values for Kd and FeO respectively.\n",
    "- **FeO_converge**\n",
    "\n",
    "    Value within which melt inclusion FeO and initial FeO are considered the same\n",
    "- **Kd_converge**\n",
    "\n",
    "    Value within which modelled and observed olivine-melt Fe-Mg Kd are considered the same"
   ]
  },
  {
   "cell_type": "markdown",
   "metadata": {},
   "source": [
    "You can change these settings through their attributes:"
   ]
  },
  {
   "cell_type": "code",
   "execution_count": 6,
   "metadata": {},
   "outputs": [
    {
     "name": "stdout",
     "output_type": "stream",
     "text": [
      "\n",
      "############ Post-entrapment crystallisation ############\n",
      "################### correction model ####################\n",
      "Settings_________________________________________________\n",
      "Fe2+ behaviour..............................closed system\n",
      "Stepsize equilibration (moles)..............0.001        \n",
      "Stepsize crystallisation (moles)............0.02         \n",
      "Decrease factor.............................2            \n",
      "FeO convergence (wt. %).....................0.01         \n",
      "Kd convergence..............................0.005        \n"
     ]
    }
   ],
   "source": [
    "mpc.PEC_configuration.Fe2_behaviour = \"closed system\"\n",
    "mpc.PEC_configuration.stepsize_equilibration = 0.001\n",
    "mpc.PEC_configuration.stepsize_crystallisation = 0.02\n",
    "mpc.PEC_configuration.decrease_factor = 2\n",
    "mpc.PEC_configuration.FeO_converge = 0.01\n",
    "mpc.PEC_configuration.Kd_converge = 0.005\n",
    "\n",
    "print(mpc.PEC_configuration)"
   ]
  },
  {
   "cell_type": "markdown",
   "metadata": {},
   "source": [
    "MagmaPEC will raise an error if you try to set a wrong value, and will tell you which values are allowed"
   ]
  },
  {
   "cell_type": "code",
   "execution_count": 7,
   "metadata": {},
   "outputs": [
    {
     "ename": "ValueError",
     "evalue": "'open system' is not recognised, please choose from: ('buffered', 'closed system')",
     "output_type": "error",
     "traceback": [
      "\u001b[0;31m---------------------------------------------------------------------------\u001b[0m",
      "\u001b[0;31mValueError\u001b[0m                                Traceback (most recent call last)",
      "Cell \u001b[0;32mIn[7], line 1\u001b[0m\n\u001b[0;32m----> 1\u001b[0m mpc\u001b[39m.\u001b[39;49mPEC_configuration\u001b[39m.\u001b[39;49mFe2_behaviour \u001b[39m=\u001b[39m \u001b[39m\"\u001b[39m\u001b[39mopen system\u001b[39m\u001b[39m\"\u001b[39m\n",
      "File \u001b[0;32m~/Dropbox/research/python/packages/MagmaPandas/src/MagmaPandas/parse_io/validate.py:56\u001b[0m, in \u001b[0;36m_check_setter.<locals>.decorator.<locals>.wrapper\u001b[0;34m(*args)\u001b[0m\n\u001b[1;32m     54\u001b[0m \u001b[39melif\u001b[39;00m \u001b[39misinstance\u001b[39m(var, \u001b[39mstr\u001b[39m):\n\u001b[1;32m     55\u001b[0m     \u001b[39mif\u001b[39;00m var \u001b[39mnot\u001b[39;00m \u001b[39min\u001b[39;00m allowed_values:\n\u001b[0;32m---> 56\u001b[0m         \u001b[39mraise\u001b[39;00m \u001b[39mValueError\u001b[39;00m(\n\u001b[1;32m     57\u001b[0m             \u001b[39mf\u001b[39m\u001b[39m\"\u001b[39m\u001b[39m'\u001b[39m\u001b[39m{\u001b[39;00mvar\u001b[39m}\u001b[39;00m\u001b[39m'\u001b[39m\u001b[39m is not recognised, please choose from: \u001b[39m\u001b[39m{\u001b[39;00m\u001b[39m*\u001b[39mallowed_values,\u001b[39m}\u001b[39;00m\u001b[39m\"\u001b[39m\n\u001b[1;32m     58\u001b[0m         )\n\u001b[1;32m     59\u001b[0m \u001b[39mreturn\u001b[39;00m func(\u001b[39m*\u001b[39margs)\n",
      "\u001b[0;31mValueError\u001b[0m: 'open system' is not recognised, please choose from: ('buffered', 'closed system')"
     ]
    }
   ],
   "source": [
    "mpc.PEC_configuration.Fe2_behaviour = \"open system\""
   ]
  },
  {
   "cell_type": "code",
   "execution_count": 8,
   "metadata": {},
   "outputs": [
    {
     "ename": "ValueError",
     "evalue": "value: 5, outside allowed range: (0.0, 1.0)",
     "output_type": "error",
     "traceback": [
      "\u001b[0;31m---------------------------------------------------------------------------\u001b[0m",
      "\u001b[0;31mValueError\u001b[0m                                Traceback (most recent call last)",
      "Cell \u001b[0;32mIn[8], line 1\u001b[0m\n\u001b[0;32m----> 1\u001b[0m mpc\u001b[39m.\u001b[39;49mPEC_configuration\u001b[39m.\u001b[39;49mstepsize_crystallisation \u001b[39m=\u001b[39m \u001b[39m5\u001b[39m\n",
      "File \u001b[0;32m~/Dropbox/research/python/packages/MagmaPandas/src/MagmaPandas/parse_io/validate.py:51\u001b[0m, in \u001b[0;36m_check_setter.<locals>.decorator.<locals>.wrapper\u001b[0;34m(*args)\u001b[0m\n\u001b[1;32m     49\u001b[0m     \u001b[39mmin\u001b[39m, \u001b[39mmax\u001b[39m \u001b[39m=\u001b[39m allowed_values\n\u001b[1;32m     50\u001b[0m     \u001b[39mif\u001b[39;00m \u001b[39mnot\u001b[39;00m (\u001b[39mmin\u001b[39m \u001b[39m<\u001b[39m var \u001b[39m<\u001b[39m \u001b[39mmax\u001b[39m):\n\u001b[0;32m---> 51\u001b[0m         \u001b[39mraise\u001b[39;00m \u001b[39mValueError\u001b[39;00m(\n\u001b[1;32m     52\u001b[0m             \u001b[39mf\u001b[39m\u001b[39m\"\u001b[39m\u001b[39mvalue: \u001b[39m\u001b[39m{\u001b[39;00mvar\u001b[39m}\u001b[39;00m\u001b[39m, outside allowed range: \u001b[39m\u001b[39m{\u001b[39;00m\u001b[39m*\u001b[39mallowed_values,\u001b[39m}\u001b[39;00m\u001b[39m\"\u001b[39m\n\u001b[1;32m     53\u001b[0m         )\n\u001b[1;32m     54\u001b[0m \u001b[39melif\u001b[39;00m \u001b[39misinstance\u001b[39m(var, \u001b[39mstr\u001b[39m):\n\u001b[1;32m     55\u001b[0m     \u001b[39mif\u001b[39;00m var \u001b[39mnot\u001b[39;00m \u001b[39min\u001b[39;00m allowed_values:\n",
      "\u001b[0;31mValueError\u001b[0m: value: 5, outside allowed range: (0.0, 1.0)"
     ]
    }
   ],
   "source": [
    "mpc.PEC_configuration.stepsize_crystallisation = 5"
   ]
  },
  {
   "cell_type": "markdown",
   "metadata": {},
   "source": [
    "The *reset* method resets everything to default values:"
   ]
  },
  {
   "cell_type": "code",
   "execution_count": 5,
   "metadata": {},
   "outputs": [
    {
     "name": "stdout",
     "output_type": "stream",
     "text": [
      "\n",
      "############ Post-entrapment crystallisation ############\n",
      "################### correction model ####################\n",
      "Settings_________________________________________________\n",
      "Fe2+ behaviour...................................buffered\n",
      "Stepsize equilibration (moles)...................0.002   \n",
      "Stepsize crystallisation (moles).................0.05    \n",
      "Decrease factor..................................5       \n",
      "FeO convergence (wt. %)..........................0.05    \n",
      "Kd convergence...................................0.001   \n"
     ]
    }
   ],
   "source": [
    "mpc.PEC_configuration.reset()\n",
    "print(mpc.PEC_configuration)"
   ]
  },
  {
   "cell_type": "code",
   "execution_count": null,
   "metadata": {},
   "outputs": [],
   "source": []
  }
 ],
 "metadata": {
  "kernelspec": {
   "display_name": "py310",
   "language": "python",
   "name": "python3"
  },
  "language_info": {
   "codemirror_mode": {
    "name": "ipython",
    "version": 3
   },
   "file_extension": ".py",
   "mimetype": "text/x-python",
   "name": "python",
   "nbconvert_exporter": "python",
   "pygments_lexer": "ipython3",
   "version": "3.10.13"
  }
 },
 "nbformat": 4,
 "nbformat_minor": 2
}
