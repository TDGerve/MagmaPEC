{
 "cells": [
  {
   "cell_type": "markdown",
   "id": "175ddf88",
   "metadata": {},
   "source": [
    "# Performance benchmark"
   ]
  },
  {
   "cell_type": "markdown",
   "id": "b6016dc5",
   "metadata": {},
   "source": [
    "MagmaPEC is a Python implementation of the algorithm also ued by Petrolog3. Compared to Petrolog, MagmaPEC has\n",
    "\n",
    "  * a more up-to-date selection of melt Fe3/Fe2, ol-melt Fe-Mg Kd and melt thermometers and allows for PEC corrections\n",
    "  * the option to perform PEC corrections at any pressure\n",
    "  * the option to predict melt inclusion inition FeO from melt compositions.\n",
    "\n",
    "Additionally, MagmaPEC is open-source and users can extend it with their own models. As a performance baseline, we compare MagmaPandas results with those from Petrolog3. Petrolog and MagmaPandas have not implemented equivalent models for all parameters, but we settings are kept as similar as possible. In Petrolog we use:\n",
    "\n",
    "\n",
    "\n",
    "| Property      | Value                     |\n",
    "|---------------|---------------------------|\n",
    "| Kd            | Toplis et al. (2005)      |\n",
    "| fO2           | QFM+1                     |\n",
    "| melt Fe3Fe2   | Kress & Carmichael (1988) |\n",
    "| pressure      | 1 bar.                    |\n",
    "| olivine       | Putirka (2005, C-D)       |\n",
    "| FeO initial.  | 10.9 wt.%                 |\n",
    "\n",
    "Note that 1 bar is the only pressure available in petrolog. MagmaPEC settings are shown in the cells below.\n"
   ]
  },
  {
   "cell_type": "code",
   "execution_count": 1,
   "id": "bfdd85f8",
   "metadata": {},
   "outputs": [],
   "source": [
    "import MagmaPEC as mpc\n",
    "import MagmaPandas as mp\n",
    "\n",
    "import pandas as pd\n",
    "import matplotlib.pyplot as plt\n",
    "import geoplot as gp\n",
    "\n",
    "mm = 1/25.4"
   ]
  },
  {
   "cell_type": "code",
   "execution_count": 2,
   "id": "6b39ecc8",
   "metadata": {},
   "outputs": [
    {
     "name": "stdout",
     "output_type": "stream",
     "text": [
      "\n",
      "################## MagmaPandas ###################\n",
      "##################################################\n",
      "General settings__________________________________\n",
      "fO2 buffer.....................................QFM\n",
      "ΔfO2.............................................1\n",
      "Melt Fe3+/Fe2+................kress_carmichael1991\n",
      "Kd Fe-Mg ol-melt........................toplis2005\n",
      "Melt thermometer....................putirka2008_15\n",
      "Volatile solubility model.......iaconomarziano2012\n",
      "Volatile species.............................mixed\n",
      "##################################################\n",
      "\n"
     ]
    }
   ],
   "source": [
    "mpc.model_configuration.Kd_model = \"toplis2005\"\n",
    "mpc.model_configuration.Fe3Fe2_model = \"kress_carmichael1991\"\n",
    "mpc.model_configuration.melt_thermometer = \"putirka2008_15\"\n",
    "mpc.model_configuration.fO2buffer = \"QFM\"\n",
    "mpc.model_configuration.dfO2 = 1\n",
    "\n",
    "print(mpc.model_configuration)"
   ]
  },
  {
   "cell_type": "markdown",
   "id": "c3edce08",
   "metadata": {},
   "source": [
    "Import all input files"
   ]
  },
  {
   "cell_type": "code",
   "execution_count": 3,
   "id": "eb469397",
   "metadata": {},
   "outputs": [],
   "source": [
    "petrolog_file = \"./data/petrolog/petrolog_output.csv\"\n",
    "input_melt_file = \"./data/petrolog/petrolog_melt_input.csv\"\n",
    "input_olivine_file = \"./data/petrolog/petrolog_olivine_input.csv\""
   ]
  },
  {
   "cell_type": "code",
   "execution_count": 4,
   "id": "7f58445b",
   "metadata": {},
   "outputs": [],
   "source": [
    "petrolog = pd.read_csv(petrolog_file, index_col=\"SAMP_NO\").query(\"number == 3\")\n",
    "petrolog.index.name = \"name\"\n",
    "\n",
    "melt = mp.Melt(pd.read_csv(input_melt_file, index_col=[0]), units=\"wt. %\", datatype=\"oxide\")\n",
    "olivine = mp.Olivine(pd.read_csv(input_olivine_file, index_col=[0]), units=\"wt. %\", datatype=\"oxide\")"
   ]
  },
  {
   "cell_type": "markdown",
   "id": "7d34fe96",
   "metadata": {},
   "source": [
    "Run MagmaPEC corrections at 1 bar and a fixed FeO(initial) of 10.9 wt.%"
   ]
  },
  {
   "cell_type": "code",
   "execution_count": 5,
   "id": "b6d71509",
   "metadata": {},
   "outputs": [
    {
     "name": "stdout",
     "output_type": "stream",
     "text": [
      "Equilibrating ... |██████████████████████████████| 100% [172/172] in 24.8s \n",
      "Correcting    ... |██████████████████████████████| 100% [172/172] in 1:11.1 \n"
     ]
    }
   ],
   "source": [
    "P_bar = 1\n",
    "FeOi = 10.9\n",
    "\n",
    "pec_model = mpc.PEC(inclusions=melt, olivines=olivine, P_bar=P_bar, FeO_target=FeOi)\n",
    "melts_corrected, pec, checks = pec_model.correct()"
   ]
  },
  {
   "cell_type": "code",
   "execution_count": null,
   "id": "ff000b7b",
   "metadata": {},
   "outputs": [
    {
     "data": {
      "image/png": "[encoded data removed]",
      "text/plain": [
       "<Figure size 354.331x334.646 with 1 Axes>"
      ]
     },
     "metadata": {},
     "output_type": "display_data"
    }
   ],
   "source": [
    "gp.layout(colors=gp.colors.bright)\n",
    "limits = (-5, 27)\n",
    "\n",
    "fig, ax = plt.subplots(figsize=(90*mm, 85*mm))\n",
    "\n",
    "ax.plot(limits, limits, \"--\", c=\"k\")\n",
    "ax.plot(- petrolog.loc[pec.index, \"OL_PER\"], pec[\"total_crystallisation\"], \"o\")\n",
    "\n",
    "ax.set_xlabel(\"PEC% Petrolog3\")\n",
    "ax.set_ylabel(\"PEC% MagmaPEC\")\n",
    "\n",
    "plt.show()"
   ]
  },
  {
   "cell_type": "markdown",
   "id": "0082993b",
   "metadata": {},
   "source": [
    "With these similar settings results plot very close to the 1:1 line."
   ]
  }
 ],
 "metadata": {
  "kernelspec": {
   "display_name": "py310",
   "language": "python",
   "name": "python3"
  },
  "language_info": {
   "codemirror_mode": {
    "name": "ipython",
    "version": 3
   },
   "file_extension": ".py",
   "mimetype": "text/x-python",
   "name": "python",
   "nbconvert_exporter": "python",
   "pygments_lexer": "ipython3",
   "version": "3.10.0"
  }
 },
 "nbformat": 4,
 "nbformat_minor": 5
}
