{
 "cells": [
  {
   "cell_type": "markdown",
   "metadata": {},
   "source": [
    "# Error propagated PEC model"
   ]
  },
  {
   "cell_type": "markdown",
   "metadata": {},
   "source": [
    "Start by importing MagmaPEC and MagmaPandas. For details on the use of MagmaPandas, please see it's [documentation](https://magmapandas.readthedocs.io/en/latest/)."
   ]
  },
  {
   "cell_type": "code",
   "execution_count": 2,
   "metadata": {},
   "outputs": [],
   "source": [
    "import MagmaPEC as mpc\n",
    "import MagmaPandas as mp"
   ]
  },
  {
   "cell_type": "markdown",
   "metadata": {},
   "source": [
    "Import your data"
   ]
  },
  {
   "cell_type": "code",
   "execution_count": 3,
   "metadata": {},
   "outputs": [],
   "source": [
    "melt_file = \"./data/melt.csv\"\n",
    "olivine_file = \"./data/olivine.csv\"\n",
    "\n",
    "melt = mp.read_melt(melt_file, index_col=[\"name\"])\n",
    "olivine = mp.read_olivine(olivine_file, index_col=[\"name\"])"
   ]
  },
  {
   "cell_type": "code",
   "execution_count": 10,
   "metadata": {},
   "outputs": [
    {
     "data": {
      "text/html": [
       "<div>\n",
       "<style scoped>\n",
       "    .dataframe tbody tr th:only-of-type {\n",
       "        vertical-align: middle;\n",
       "    }\n",
       "\n",
       "    .dataframe tbody tr th {\n",
       "        vertical-align: top;\n",
       "    }\n",
       "\n",
       "    .dataframe thead th {\n",
       "        text-align: right;\n",
       "    }\n",
       "</style>\n",
       "<table border=\"1\" class=\"dataframe\">\n",
       "  <thead>\n",
       "    <tr style=\"text-align: right;\">\n",
       "      <th></th>\n",
       "      <th>SiO2</th>\n",
       "      <th>Al2O3</th>\n",
       "      <th>MgO</th>\n",
       "      <th>CaO</th>\n",
       "      <th>FeO</th>\n",
       "      <th>Na2O</th>\n",
       "      <th>K2O</th>\n",
       "      <th>MnO</th>\n",
       "      <th>TiO2</th>\n",
       "      <th>P2O5</th>\n",
       "      <th>Cr2O3</th>\n",
       "      <th>CO2</th>\n",
       "      <th>H2O</th>\n",
       "      <th>F</th>\n",
       "      <th>S</th>\n",
       "      <th>Cl</th>\n",
       "    </tr>\n",
       "    <tr>\n",
       "      <th>name</th>\n",
       "      <th></th>\n",
       "      <th></th>\n",
       "      <th></th>\n",
       "      <th></th>\n",
       "      <th></th>\n",
       "      <th></th>\n",
       "      <th></th>\n",
       "      <th></th>\n",
       "      <th></th>\n",
       "      <th></th>\n",
       "      <th></th>\n",
       "      <th></th>\n",
       "      <th></th>\n",
       "      <th></th>\n",
       "      <th></th>\n",
       "      <th></th>\n",
       "    </tr>\n",
       "  </thead>\n",
       "  <tbody>\n",
       "    <tr>\n",
       "      <th>PI032-04-01</th>\n",
       "      <td>50.028862</td>\n",
       "      <td>15.226979</td>\n",
       "      <td>5.330006</td>\n",
       "      <td>10.522019</td>\n",
       "      <td>8.59454</td>\n",
       "      <td>3.914280</td>\n",
       "      <td>0.730798</td>\n",
       "      <td>0.126266</td>\n",
       "      <td>2.669216</td>\n",
       "      <td>0.303542</td>\n",
       "      <td>NaN</td>\n",
       "      <td>0.658252</td>\n",
       "      <td>1.508379</td>\n",
       "      <td>0.082590</td>\n",
       "      <td>0.152337</td>\n",
       "      <td>0.035565</td>\n",
       "    </tr>\n",
       "    <tr>\n",
       "      <th>PI032-04-02</th>\n",
       "      <td>49.558861</td>\n",
       "      <td>16.041588</td>\n",
       "      <td>5.117479</td>\n",
       "      <td>10.266067</td>\n",
       "      <td>8.25471</td>\n",
       "      <td>3.782408</td>\n",
       "      <td>0.997826</td>\n",
       "      <td>0.129969</td>\n",
       "      <td>2.814807</td>\n",
       "      <td>0.356900</td>\n",
       "      <td>NaN</td>\n",
       "      <td>0.713472</td>\n",
       "      <td>1.412274</td>\n",
       "      <td>0.089010</td>\n",
       "      <td>0.175511</td>\n",
       "      <td>0.047265</td>\n",
       "    </tr>\n",
       "    <tr>\n",
       "      <th>PI041-02-02</th>\n",
       "      <td>49.112045</td>\n",
       "      <td>16.972038</td>\n",
       "      <td>4.864153</td>\n",
       "      <td>9.195718</td>\n",
       "      <td>10.07540</td>\n",
       "      <td>3.793512</td>\n",
       "      <td>1.079184</td>\n",
       "      <td>0.153456</td>\n",
       "      <td>2.807967</td>\n",
       "      <td>0.561756</td>\n",
       "      <td>NaN</td>\n",
       "      <td>0.464520</td>\n",
       "      <td>0.656341</td>\n",
       "      <td>0.047715</td>\n",
       "      <td>0.068108</td>\n",
       "      <td>0.021185</td>\n",
       "    </tr>\n",
       "    <tr>\n",
       "      <th>PI041-03-01</th>\n",
       "      <td>47.098515</td>\n",
       "      <td>17.448515</td>\n",
       "      <td>4.650640</td>\n",
       "      <td>12.154110</td>\n",
       "      <td>7.95402</td>\n",
       "      <td>3.707263</td>\n",
       "      <td>1.268282</td>\n",
       "      <td>0.101370</td>\n",
       "      <td>3.493271</td>\n",
       "      <td>0.611504</td>\n",
       "      <td>NaN</td>\n",
       "      <td>0.883720</td>\n",
       "      <td>0.324968</td>\n",
       "      <td>0.088070</td>\n",
       "      <td>0.096228</td>\n",
       "      <td>0.059958</td>\n",
       "    </tr>\n",
       "    <tr>\n",
       "      <th>PI041-03-03</th>\n",
       "      <td>46.478870</td>\n",
       "      <td>17.637102</td>\n",
       "      <td>4.762752</td>\n",
       "      <td>12.364033</td>\n",
       "      <td>7.84027</td>\n",
       "      <td>3.789446</td>\n",
       "      <td>1.294603</td>\n",
       "      <td>0.077221</td>\n",
       "      <td>3.617484</td>\n",
       "      <td>0.574248</td>\n",
       "      <td>NaN</td>\n",
       "      <td>0.910470</td>\n",
       "      <td>0.344988</td>\n",
       "      <td>0.090605</td>\n",
       "      <td>0.088145</td>\n",
       "      <td>0.061584</td>\n",
       "    </tr>\n",
       "  </tbody>\n",
       "</table>\n",
       "</div>"
      ],
      "text/plain": [
       "                  SiO2      Al2O3       MgO        CaO       FeO      Na2O  \\\n",
       "name                                                                         \n",
       "PI032-04-01  50.028862  15.226979  5.330006  10.522019   8.59454  3.914280   \n",
       "PI032-04-02  49.558861  16.041588  5.117479  10.266067   8.25471  3.782408   \n",
       "PI041-02-02  49.112045  16.972038  4.864153   9.195718  10.07540  3.793512   \n",
       "PI041-03-01  47.098515  17.448515  4.650640  12.154110   7.95402  3.707263   \n",
       "PI041-03-03  46.478870  17.637102  4.762752  12.364033   7.84027  3.789446   \n",
       "\n",
       "                  K2O       MnO      TiO2      P2O5  Cr2O3       CO2  \\\n",
       "name                                                                   \n",
       "PI032-04-01  0.730798  0.126266  2.669216  0.303542    NaN  0.658252   \n",
       "PI032-04-02  0.997826  0.129969  2.814807  0.356900    NaN  0.713472   \n",
       "PI041-02-02  1.079184  0.153456  2.807967  0.561756    NaN  0.464520   \n",
       "PI041-03-01  1.268282  0.101370  3.493271  0.611504    NaN  0.883720   \n",
       "PI041-03-03  1.294603  0.077221  3.617484  0.574248    NaN  0.910470   \n",
       "\n",
       "                  H2O         F         S        Cl  \n",
       "name                                                 \n",
       "PI032-04-01  1.508379  0.082590  0.152337  0.035565  \n",
       "PI032-04-02  1.412274  0.089010  0.175511  0.047265  \n",
       "PI041-02-02  0.656341  0.047715  0.068108  0.021185  \n",
       "PI041-03-01  0.324968  0.088070  0.096228  0.059958  \n",
       "PI041-03-03  0.344988  0.090605  0.088145  0.061584  "
      ]
     },
     "execution_count": 10,
     "metadata": {},
     "output_type": "execute_result"
    }
   ],
   "source": [
    "melt.head()"
   ]
  },
  {
   "cell_type": "code",
   "execution_count": 11,
   "metadata": {},
   "outputs": [
    {
     "data": {
      "text/html": [
       "<div>\n",
       "<style scoped>\n",
       "    .dataframe tbody tr th:only-of-type {\n",
       "        vertical-align: middle;\n",
       "    }\n",
       "\n",
       "    .dataframe tbody tr th {\n",
       "        vertical-align: top;\n",
       "    }\n",
       "\n",
       "    .dataframe thead th {\n",
       "        text-align: right;\n",
       "    }\n",
       "</style>\n",
       "<table border=\"1\" class=\"dataframe\">\n",
       "  <thead>\n",
       "    <tr style=\"text-align: right;\">\n",
       "      <th></th>\n",
       "      <th>SiO2</th>\n",
       "      <th>FeO</th>\n",
       "      <th>MgO</th>\n",
       "      <th>NiO</th>\n",
       "      <th>MnO</th>\n",
       "      <th>Al2O3</th>\n",
       "      <th>CaO</th>\n",
       "      <th>total</th>\n",
       "    </tr>\n",
       "    <tr>\n",
       "      <th>name</th>\n",
       "      <th></th>\n",
       "      <th></th>\n",
       "      <th></th>\n",
       "      <th></th>\n",
       "      <th></th>\n",
       "      <th></th>\n",
       "      <th></th>\n",
       "      <th></th>\n",
       "    </tr>\n",
       "  </thead>\n",
       "  <tbody>\n",
       "    <tr>\n",
       "      <th>PI032-04-01</th>\n",
       "      <td>38.204800</td>\n",
       "      <td>15.981400</td>\n",
       "      <td>44.194000</td>\n",
       "      <td>0.172665</td>\n",
       "      <td>0.234256</td>\n",
       "      <td>0.005229</td>\n",
       "      <td>0.240552</td>\n",
       "      <td>99.032906</td>\n",
       "    </tr>\n",
       "    <tr>\n",
       "      <th>PI032-04-02</th>\n",
       "      <td>38.638500</td>\n",
       "      <td>15.898400</td>\n",
       "      <td>43.467400</td>\n",
       "      <td>0.188024</td>\n",
       "      <td>0.219599</td>\n",
       "      <td>-0.007310</td>\n",
       "      <td>0.234622</td>\n",
       "      <td>98.639240</td>\n",
       "    </tr>\n",
       "    <tr>\n",
       "      <th>PI041-02-02</th>\n",
       "      <td>37.270100</td>\n",
       "      <td>20.815901</td>\n",
       "      <td>41.015099</td>\n",
       "      <td>0.104744</td>\n",
       "      <td>0.293681</td>\n",
       "      <td>0.016547</td>\n",
       "      <td>0.214939</td>\n",
       "      <td>99.731000</td>\n",
       "    </tr>\n",
       "    <tr>\n",
       "      <th>PI041-03-01</th>\n",
       "      <td>38.795799</td>\n",
       "      <td>15.469300</td>\n",
       "      <td>44.750999</td>\n",
       "      <td>0.180198</td>\n",
       "      <td>0.212197</td>\n",
       "      <td>0.031333</td>\n",
       "      <td>0.259919</td>\n",
       "      <td>99.699745</td>\n",
       "    </tr>\n",
       "    <tr>\n",
       "      <th>PI041-03-03</th>\n",
       "      <td>38.701900</td>\n",
       "      <td>15.782500</td>\n",
       "      <td>44.920799</td>\n",
       "      <td>0.164372</td>\n",
       "      <td>0.214836</td>\n",
       "      <td>0.037263</td>\n",
       "      <td>0.275049</td>\n",
       "      <td>100.096720</td>\n",
       "    </tr>\n",
       "  </tbody>\n",
       "</table>\n",
       "</div>"
      ],
      "text/plain": [
       "                  SiO2        FeO        MgO       NiO       MnO     Al2O3  \\\n",
       "name                                                                         \n",
       "PI032-04-01  38.204800  15.981400  44.194000  0.172665  0.234256  0.005229   \n",
       "PI032-04-02  38.638500  15.898400  43.467400  0.188024  0.219599 -0.007310   \n",
       "PI041-02-02  37.270100  20.815901  41.015099  0.104744  0.293681  0.016547   \n",
       "PI041-03-01  38.795799  15.469300  44.750999  0.180198  0.212197  0.031333   \n",
       "PI041-03-03  38.701900  15.782500  44.920799  0.164372  0.214836  0.037263   \n",
       "\n",
       "                  CaO       total  \n",
       "name                               \n",
       "PI032-04-01  0.240552   99.032906  \n",
       "PI032-04-02  0.234622   98.639240  \n",
       "PI041-02-02  0.214939   99.731000  \n",
       "PI041-03-01  0.259919   99.699745  \n",
       "PI041-03-03  0.275049  100.096720  "
      ]
     },
     "execution_count": 11,
     "metadata": {},
     "output_type": "execute_result"
    }
   ],
   "source": [
    "olivine.head()"
   ]
  },
  {
   "cell_type": "markdown",
   "metadata": {},
   "source": [
    "Make sure that each row in *melt* and *olivine* is a matching pair of melt inclusion and olivine host. Here we check that with the sample names stored in the indeces of both dataframes:"
   ]
  },
  {
   "cell_type": "code",
   "execution_count": 8,
   "metadata": {},
   "outputs": [
    {
     "name": "stdout",
     "output_type": "stream",
     "text": [
      "Index(['PI032-04-01', 'PI032-04-02', 'PI041-02-02', 'PI041-03-01',\n",
      "       'PI041-03-03', 'PI041-05-04', 'PI041-05-06', 'PI041-07-01',\n",
      "       'PI041-07-02', 'PI052-01-02'],\n",
      "      dtype='object', name='name') \n",
      "\n",
      " Index(['PI032-04-01', 'PI032-04-02', 'PI041-02-02', 'PI041-03-01',\n",
      "       'PI041-03-03', 'PI041-05-04', 'PI041-05-06', 'PI041-07-01',\n",
      "       'PI041-07-02', 'PI052-01-02'],\n",
      "      dtype='object', name='name')\n"
     ]
    }
   ],
   "source": [
    "print(melt.index, \"\\n\\n\", olivine.index)"
   ]
  },
  {
   "cell_type": "code",
   "execution_count": 9,
   "metadata": {},
   "outputs": [
    {
     "data": {
      "text/plain": [
       "True"
      ]
     },
     "execution_count": 9,
     "metadata": {},
     "output_type": "execute_result"
    }
   ],
   "source": [
    "melt.index.equals(olivine.index)"
   ]
  },
  {
   "cell_type": "markdown",
   "metadata": {},
   "source": [
    "Check the configuration of MagmaPandas and the PEC model and make changes if you want to (see the [configuration example](https://magmapec.readthedocs.io/en/latest/notebooks/config.html)). You can change MagmaPandas settings either via the MagmaPandas object (here: mp.configuration) or the MagmaPEC object (here: mpc.configuration)."
   ]
  },
  {
   "cell_type": "code",
   "execution_count": 3,
   "metadata": {},
   "outputs": [
    {
     "name": "stdout",
     "output_type": "stream",
     "text": [
      "\n",
      "################ MagmaPandas ################\n",
      "#############################################\n",
      "General settings_____________________________\n",
      "fO2 buffer................................QFM\n",
      "Δ buffer....................................1\n",
      "Melt Fe3+/Fe2+........................borisov\n",
      "Kd Fe-Mg ol-melt.......................toplis\n",
      "Melt thermometer...............putirka2008_15\n",
      "Volatile solubility model......IaconoMarziano\n",
      "Volatile species........................mixed\n",
      "\n",
      "############ Post-entrapment crystallisation ############\n",
      "################### correction model ####################\n",
      "Settings_________________________________________________\n",
      "Fe2+ behaviour...................................buffered\n",
      "Stepsize equilibration (moles)...................0.002   \n",
      "Stepsize crystallisation (moles).................0.05    \n",
      "Decrease factor..................................5       \n",
      "FeO convergence (wt. %)..........................0.05    \n",
      "Kd convergence...................................0.001   \n"
     ]
    }
   ],
   "source": [
    "print(mpc.configuration)\n",
    "print(mpc.PEC_configuration)"
   ]
  },
  {
   "cell_type": "markdown",
   "metadata": {},
   "source": []
  }
 ],
 "metadata": {
  "kernelspec": {
   "display_name": "py310",
   "language": "python",
   "name": "python3"
  },
  "language_info": {
   "codemirror_mode": {
    "name": "ipython",
    "version": 3
   },
   "file_extension": ".py",
   "mimetype": "text/x-python",
   "name": "python",
   "nbconvert_exporter": "python",
   "pygments_lexer": "ipython3",
   "version": "3.10.13"
  }
 },
 "nbformat": 4,
 "nbformat_minor": 2
}
