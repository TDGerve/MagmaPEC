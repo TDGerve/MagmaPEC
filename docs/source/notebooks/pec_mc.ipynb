{
 "cells": [
  {
   "cell_type": "markdown",
   "metadata": {},
   "source": [
    "# PEC Monte Carlo simulation"
   ]
  },
  {
   "cell_type": "markdown",
   "metadata": {},
   "source": [
    "Start by importing MagmaPEC and MagmaPandas and any other packages you want to use. Here we also import Pandas for importing pressure data. For details on the use of MagmaPandas, please see it's [documentation](https://magmapandas.readthedocs.io/en/latest/)."
   ]
  },
  {
   "cell_type": "code",
   "execution_count": null,
   "metadata": {},
   "outputs": [],
   "source": [
    "import MagmaPEC as mpc\n",
    "import MagmaPandas as mp\n",
    "\n",
    "import pandas as pd"
   ]
  },
  {
   "cell_type": "markdown",
   "metadata": {},
   "source": [
    "In the next few steps we import all relevant data and set up the melt initial FeO prediction model. These steps are identical to the [PEC model example](https://magmapec.readthedocs.io/en/latest/notebooks/pec_corr.html#)"
   ]
  },
  {
   "cell_type": "code",
   "execution_count": null,
   "metadata": {},
   "outputs": [],
   "source": []
  },
  {
   "cell_type": "markdown",
   "metadata": {},
   "source": [
    "Import melt inclusion and olivine data:"
   ]
  },
  {
   "cell_type": "code",
   "execution_count": null,
   "metadata": {},
   "outputs": [],
   "source": [
    "melt_file = \"./data/melt.csv\"\n",
    "olivine_file = \"./data/olivine.csv\"\n",
    "\n",
    "melt = mp.read_melt(melt_file, index_col=[\"name\"])\n",
    "olivine = mp.read_olivine(olivine_file, index_col=[\"name\"])"
   ]
  },
  {
   "cell_type": "markdown",
   "metadata": {},
   "source": [
    "Import inclusion internal pressures:"
   ]
  },
  {
   "cell_type": "code",
   "execution_count": null,
   "metadata": {},
   "outputs": [],
   "source": [
    "pressure_file =\"./data/pressure.csv\"\n",
    "pressure = pd.read_csv(pressure_file, index_col = [\"name\"]).squeeze()"
   ]
  },
  {
   "cell_type": "markdown",
   "metadata": {},
   "source": [
    "Set up the melt initial FeO prediction model:"
   ]
  },
  {
   "cell_type": "code",
   "execution_count": null,
   "metadata": {},
   "outputs": [],
   "source": [
    "wholerock_file = \"./data/wholerock.csv\"\n",
    "wholerock = mp.read_melt(wholerock_file, index_col=[\"name\"])\n",
    "\n",
    "x = wholerock.drop(columns=[\"FeO\"])\n",
    "FeOi_predict = mpc.FeOi_prediction(x=x, FeO=wholerock[\"FeO\"])\n",
    "\n",
    "do_not_use = [\"MnO\", \"P2O5\", \"Cr2O3\", \"total\"]\n",
    "\n",
    "model_fits = FeOi_predict.calculate_model_fits(exclude=do_not_use)\n",
    "FeOi_predict.select_predictors(idx=3)"
   ]
  },
  {
   "cell_type": "markdown",
   "metadata": {},
   "source": [
    "Next, we need to set up the object that handles the random sampling of errors in the Monte Carlo simulation. This is done with the *PEC_MC_parameters* class and it includes the following parameters for error propagation:\n",
    "\n",
    "- **melt_errors**\n",
    "        \n",
    "    propagate errors on melt composition by providing one standard deviation errors per element as a pandas Series (fixed errors for all inclusions) or DataFrame (errors per inclusion).\n",
    "\n",
    "- **olivine_errors**\n",
    "\n",
    "    propagate errors on olivine composition by providing one standard deviation errors per element as a pandas Series (fixed errors for all inclusions) or DataFrame (errors per inclusion).\n",
    "\n",
    "- **FeOi_errors**\n",
    "\n",
    "    propagate errors on estimate melt initial FeO contents. Fixed errors can be provided either for the whole dataset, or per inclusion. Alternatively, an [FeOi_prediction object](https://magmapec.readthedocs.io/en/latest/notebooks/FeOi.html) can be provided to propagate errors on predictions models.\n",
    "\n",
    "- **Fe3Fe2**\n",
    "\n",
    "    Propagate errors on modelled melt Fe<sup>2+</sup>/Fe<sup>3+</sup> ratios. Errors are automatically calculated by MagmaPandas based on the selected model. Pass *True* to this parameter to activate it.\n",
    "\n",
    "- **Kd**\n",
    "\n",
    "    Propagate errors on modelled olivine-melt Fe-Mg partition coefficients. Errors are automatically calculated by MagmaPandas based on the selected model. Pass *True* to this parameter to activate it.\n",
    "\n",
    "By default errors are not propagated - you explicitely need to tell MagmaPEC to when initialising the *PEC_MC_parameters* object"
   ]
  },
  {
   "cell_type": "markdown",
   "metadata": {},
   "source": [
    "In this example we will use all error propagation options, which means we need to provide errors on the melt and olivine compositions. We import these from .csv files containing (fake) error data for individual inclusions and olivines."
   ]
  },
  {
   "cell_type": "code",
   "execution_count": null,
   "metadata": {},
   "outputs": [],
   "source": [
    "melt_errors_file = \"./data/melt_errors.csv\"\n",
    "olivine_errors_file = \"./data/olivine_errors.csv\"\n",
    "\n",
    "melt_errors = pd.read_csv(melt_errors_file, index_col=[0])\n",
    "olivine_errors = pd.read_csv(olivine_errors_file, index_col=[0])"
   ]
  },
  {
   "cell_type": "markdown",
   "metadata": {},
   "source": [
    "Make absolutely sure that the elements in the error data have identical sorting to the melt and olivine dataframes, otherwise errors will be applied to the wrong elements. \n",
    "We can force this by sorting the columns of the error dataframes (or series) with the *elements* attributes of the melt and olivine MagmaFrames:"
   ]
  },
  {
   "cell_type": "code",
   "execution_count": null,
   "metadata": {},
   "outputs": [],
   "source": [
    "melt_errors = melt_errors[melt.elements]\n",
    "olivine_errors = olivine_errors[olivine.elements]"
   ]
  },
  {
   "cell_type": "markdown",
   "metadata": {},
   "source": [
    "Here's what they look like:"
   ]
  },
  {
   "cell_type": "code",
   "execution_count": null,
   "metadata": {},
   "outputs": [],
   "source": [
    "melt_errors.head()"
   ]
  },
  {
   "cell_type": "code",
   "execution_count": null,
   "metadata": {},
   "outputs": [],
   "source": [
    "olivine_errors.head()"
   ]
  },
  {
   "cell_type": "markdown",
   "metadata": {},
   "source": [
    "Together with the *FeOi_prediction* object, we pass these as arguments to the *PEC_MC_parameters* object. We also set *Fe3Fe2* and *Kd* to *True* in order to propagate their model errors as well."
   ]
  },
  {
   "cell_type": "code",
   "execution_count": null,
   "metadata": {},
   "outputs": [],
   "source": [
    "mc_parameters = mpc.PEC_MC_parameters(melt_errors=melt_errors, olivine_errors=olivine_errors, FeOi_errors=FeOi_predict, Fe3Fe2=True, Kd=True)"
   ]
  },
  {
   "cell_type": "markdown",
   "metadata": {},
   "source": [
    "Now we can create the Monte Carlo model with the *PEC_MC* object"
   ]
  },
  {
   "cell_type": "code",
   "execution_count": null,
   "metadata": {},
   "outputs": [],
   "source": [
    "pec_mc_model = mpc.PEC_MC(inclusions=melt, olivines=olivine, P_bar=pressure, FeO_target=FeOi_predict, MC_parameters=mc_parameters)"
   ]
  },
  {
   "cell_type": "markdown",
   "metadata": {},
   "source": [
    "And finally run the Monte Carlo simulation with *n* iterations"
   ]
  },
  {
   "cell_type": "code",
   "execution_count": null,
   "metadata": {},
   "outputs": [
    {
     "name": "stdout",
     "output_type": "stream",
     "text": [
      "Equilibrating ... |███████████████████████████   | 90% [9/10] in 4:23 "
     ]
    }
   ],
   "source": [
    "pec_mc_model.run(n=30)"
   ]
  },
  {
   "cell_type": "markdown",
   "metadata": {},
   "source": [
    "Results are stored internally in the following attributes:\n",
    "\n",
    "- **pec**: pandas DataFrame\n",
    "\n",
    "    Average PEC extents (%) of the MC model and their one standard deviation errors.\n",
    "\n",
    "- **inclusions_corr**: MagmaPandas Melt frame\n",
    "\n",
    "    Averages of corrected melt inclusion compositions\n",
    "\n",
    "- **inclusions_stddev**: pandas DataFrame\n",
    "\n",
    "    One standard deviation errors on inclusions_corr\n",
    "\n",
    "- **pec_MC**: pandas DataFrame\n",
    "\n",
    "    PEC extents for individual iterations\n",
    "\n",
    "- **inclusions_MC**: dictionary of MagmaPandas Melt frames\n",
    "\n",
    "    corrected melt inclusion compositions for individual iterations."
   ]
  },
  {
   "cell_type": "code",
   "execution_count": null,
   "metadata": {},
   "outputs": [],
   "source": [
    "pec = pec_mc_model.pec\n",
    "inclusions_corrected = pec_mc_model.inclusions_corr\n",
    "inclusions_errors = pec_mc_model.inclusions_stddev\n",
    "\n",
    "pec_mc = pec_mc_model.pec_MC\n",
    "inclusions_MC = pec_mc_model.inclusions_MC"
   ]
  },
  {
   "cell_type": "code",
   "execution_count": null,
   "metadata": {},
   "outputs": [],
   "source": [
    "pec"
   ]
  },
  {
   "cell_type": "code",
   "execution_count": null,
   "metadata": {},
   "outputs": [],
   "source": [
    "inclusions_corrected"
   ]
  },
  {
   "cell_type": "code",
   "execution_count": null,
   "metadata": {},
   "outputs": [],
   "source": [
    "inclusions_errors"
   ]
  },
  {
   "cell_type": "code",
   "execution_count": null,
   "metadata": {},
   "outputs": [],
   "source": [
    "pec_mc"
   ]
  },
  {
   "cell_type": "code",
   "execution_count": null,
   "metadata": {},
   "outputs": [],
   "source": [
    "inclusions_MC[\"PI032-04-01\"]"
   ]
  },
  {
   "cell_type": "code",
   "execution_count": null,
   "metadata": {},
   "outputs": [],
   "source": []
  }
 ],
 "metadata": {
  "kernelspec": {
   "display_name": "py310",
   "language": "python",
   "name": "python3"
  },
  "language_info": {
   "codemirror_mode": {
    "name": "ipython",
    "version": 3
   },
   "file_extension": ".py",
   "mimetype": "text/x-python",
   "name": "python",
   "nbconvert_exporter": "python",
   "pygments_lexer": "ipython3",
   "version": "3.10.13"
  }
 },
 "nbformat": 4,
 "nbformat_minor": 2
}
