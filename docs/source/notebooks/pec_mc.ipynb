{
 "cells": [
  {
   "cell_type": "markdown",
   "metadata": {},
   "source": [
    "# Error propagation"
   ]
  },
  {
   "cell_type": "markdown",
   "metadata": {},
   "source": [
    "Start by importing MagmaPEC"
   ]
  },
  {
   "cell_type": "code",
   "execution_count": 1,
   "metadata": {},
   "outputs": [],
   "source": [
    "import MagmaPEC as mpc"
   ]
  },
  {
   "cell_type": "markdown",
   "metadata": {},
   "source": [
    "Check the configuration of MagmaPandas and the PEC model and make changes if you want to. The [configuration example]() shows how to do that."
   ]
  },
  {
   "cell_type": "code",
   "execution_count": 3,
   "metadata": {},
   "outputs": [
    {
     "name": "stdout",
     "output_type": "stream",
     "text": [
      "\n",
      "################ MagmaPandas ################\n",
      "#############################################\n",
      "General settings_____________________________\n",
      "fO2 buffer................................QFM\n",
      "Δ buffer....................................1\n",
      "Melt Fe3+/Fe2+........................borisov\n",
      "Kd Fe-Mg ol-melt.......................toplis\n",
      "Melt thermometer...............putirka2008_15\n",
      "Volatile solubility model......IaconoMarziano\n",
      "Volatile species........................mixed\n",
      "\n",
      "############ Post-entrapment crystallisation ############\n",
      "################### correction model ####################\n",
      "Settings_________________________________________________\n",
      "Fe2+ behaviour...................................buffered\n",
      "Stepsize equilibration (moles)...................0.002   \n",
      "Stepsize crystallisation (moles).................0.05    \n",
      "Decrease factor..................................5       \n",
      "FeO convergence (wt. %)..........................0.05    \n",
      "Kd convergence...................................0.001   \n"
     ]
    }
   ],
   "source": [
    "print(mpc.configuration)\n",
    "print(mpc.PEC_configuration)"
   ]
  },
  {
   "cell_type": "code",
   "execution_count": null,
   "metadata": {},
   "outputs": [],
   "source": []
  }
 ],
 "metadata": {
  "kernelspec": {
   "display_name": "py310",
   "language": "python",
   "name": "python3"
  },
  "language_info": {
   "codemirror_mode": {
    "name": "ipython",
    "version": 3
   },
   "file_extension": ".py",
   "mimetype": "text/x-python",
   "name": "python",
   "nbconvert_exporter": "python",
   "pygments_lexer": "ipython3",
   "version": "3.10.13"
  }
 },
 "nbformat": 4,
 "nbformat_minor": 2
}
