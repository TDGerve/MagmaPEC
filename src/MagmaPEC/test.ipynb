{
 "cells": [
  {
   "cell_type": "code",
   "execution_count": 1,
   "metadata": {},
   "outputs": [
    {
     "name": "stdout",
     "output_type": "stream",
     "text": [
      "\n",
      "################ MagmaPandas ################\n",
      "#############################################\n",
      "General settings_____________________________\n",
      "fO2 buffer................................QFM\n",
      "Δ buffer....................................1\n",
      "Melt Fe3+/Fe2+........................borisov\n",
      "Kd Fe-Mg ol-melt.......................toplis\n",
      "Melt thermometer...............putirka2008_15\n",
      "Volatile solubility model......IaconoMarziano\n",
      "Volatile species........................mixed\n"
     ]
    }
   ],
   "source": [
    "from error_propagation import *\n",
    "import MagmaPandas as mp\n",
    "\n",
    "print(mp.configuration)"
   ]
  },
  {
   "cell_type": "code",
   "execution_count": 2,
   "metadata": {},
   "outputs": [],
   "source": [
    "melts_file = inclusions_file = \"/Users/thomas/Dropbox/research/Azores/melt_inclusions/data_processing/5.data_extrapolation/outputs/melt_reconstructed_total.xlsx\""
   ]
  },
  {
   "cell_type": "code",
   "execution_count": 3,
   "metadata": {},
   "outputs": [],
   "source": [
    "melts = mp.Melt(pd.read_excel(\n",
    "        inclusions_file, sheet_name=\"IaconoMarziano\", index_col=0\n",
    "    ), units=\"wt. %\", datatype=\"oxide\")"
   ]
  },
  {
   "cell_type": "code",
   "execution_count": 9,
   "metadata": {},
   "outputs": [
    {
     "data": {
      "text/html": [
       "<div>\n",
       "<style scoped>\n",
       "    .dataframe tbody tr th:only-of-type {\n",
       "        vertical-align: middle;\n",
       "    }\n",
       "\n",
       "    .dataframe tbody tr th {\n",
       "        vertical-align: top;\n",
       "    }\n",
       "\n",
       "    .dataframe thead th {\n",
       "        text-align: right;\n",
       "    }\n",
       "</style>\n",
       "<table border=\"1\" class=\"dataframe\">\n",
       "  <thead>\n",
       "    <tr style=\"text-align: right;\">\n",
       "      <th></th>\n",
       "      <th>slope</th>\n",
       "      <th>intercept</th>\n",
       "    </tr>\n",
       "  </thead>\n",
       "  <tbody>\n",
       "    <tr>\n",
       "      <th>0</th>\n",
       "      <td>-0.838379</td>\n",
       "      <td>20.953125</td>\n",
       "    </tr>\n",
       "    <tr>\n",
       "      <th>1</th>\n",
       "      <td>-0.836426</td>\n",
       "      <td>20.953125</td>\n",
       "    </tr>\n",
       "    <tr>\n",
       "      <th>2</th>\n",
       "      <td>-0.932617</td>\n",
       "      <td>21.437500</td>\n",
       "    </tr>\n",
       "    <tr>\n",
       "      <th>3</th>\n",
       "      <td>-0.842285</td>\n",
       "      <td>20.968750</td>\n",
       "    </tr>\n",
       "    <tr>\n",
       "      <th>4</th>\n",
       "      <td>-0.718750</td>\n",
       "      <td>20.359375</td>\n",
       "    </tr>\n",
       "    <tr>\n",
       "      <th>5</th>\n",
       "      <td>-0.746094</td>\n",
       "      <td>20.484375</td>\n",
       "    </tr>\n",
       "    <tr>\n",
       "      <th>6</th>\n",
       "      <td>-0.799805</td>\n",
       "      <td>20.765625</td>\n",
       "    </tr>\n",
       "    <tr>\n",
       "      <th>7</th>\n",
       "      <td>-0.828613</td>\n",
       "      <td>20.906250</td>\n",
       "    </tr>\n",
       "    <tr>\n",
       "      <th>8</th>\n",
       "      <td>-0.878418</td>\n",
       "      <td>21.156250</td>\n",
       "    </tr>\n",
       "    <tr>\n",
       "      <th>9</th>\n",
       "      <td>-0.715820</td>\n",
       "      <td>20.343750</td>\n",
       "    </tr>\n",
       "  </tbody>\n",
       "</table>\n",
       "</div>"
      ],
      "text/plain": [
       "      slope  intercept\n",
       "0 -0.838379  20.953125\n",
       "1 -0.836426  20.953125\n",
       "2 -0.932617  21.437500\n",
       "3 -0.842285  20.968750\n",
       "4 -0.718750  20.359375\n",
       "5 -0.746094  20.484375\n",
       "6 -0.799805  20.765625\n",
       "7 -0.828613  20.906250\n",
       "8 -0.878418  21.156250\n",
       "9 -0.715820  20.343750"
      ]
     },
     "execution_count": 9,
     "metadata": {},
     "output_type": "execute_result"
    }
   ],
   "source": [
    "linear_regression_coefficients_MC(melts[\"MgO\"], melts[\"Al2O3\"], n=10)"
   ]
  },
  {
   "cell_type": "code",
   "execution_count": 7,
   "metadata": {},
   "outputs": [
    {
     "data": {
      "text/plain": [
       "name\n",
       "PI032-04-01    0.041333\n",
       "PI032-04-02    0.042766\n",
       "PI041-02-02    0.033856\n",
       "PI041-03-01    0.046228\n",
       "PI041-03-03    0.047235\n",
       "                 ...   \n",
       "PI085-04-05    0.040499\n",
       "PI097-02-04    0.035928\n",
       "PI114-01-04    0.032995\n",
       "PI114-04-04    0.038527\n",
       "PI114-05-04    0.029608\n",
       "Length: 185, dtype: float64"
      ]
     },
     "execution_count": 7,
     "metadata": {},
     "output_type": "execute_result"
    }
   ],
   "source": [
    "Fe3Fe2_CressCarmichael_error(melts, T_K=1400, P_bar=4e3)"
   ]
  },
  {
   "cell_type": "code",
   "execution_count": null,
   "metadata": {},
   "outputs": [],
   "source": [
    "mp.configuration.Kd_model = \"toplis\"\n",
    "get_KD_error(melts)"
   ]
  },
  {
   "cell_type": "code",
   "execution_count": null,
   "metadata": {},
   "outputs": [],
   "source": [
    "mp.configuration.Fe3Fe2_model = \"borisov\"\n",
    "get_Fe3Fe2_error(melts, T_K=1500, P_bar=3e3)"
   ]
  },
  {
   "cell_type": "code",
   "execution_count": null,
   "metadata": {},
   "outputs": [],
   "source": []
  }
 ],
 "metadata": {
  "kernelspec": {
   "display_name": "py310",
   "language": "python",
   "name": "python3"
  },
  "language_info": {
   "codemirror_mode": {
    "name": "ipython",
    "version": 3
   },
   "file_extension": ".py",
   "mimetype": "text/x-python",
   "name": "python",
   "nbconvert_exporter": "python",
   "pygments_lexer": "ipython3",
   "version": "3.10.13"
  }
 },
 "nbformat": 4,
 "nbformat_minor": 2
}
